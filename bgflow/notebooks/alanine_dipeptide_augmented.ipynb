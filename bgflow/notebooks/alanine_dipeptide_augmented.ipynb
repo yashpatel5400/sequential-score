{
 "cells": [
  {
   "cell_type": "markdown",
   "id": "basic-river",
   "metadata": {},
   "source": [
    "# Alanine Dipeptide with Augmented Normalizing Flows\n",
    "\n",
    "This notebook introduces augmented normalizing flows. \n",
    "\n",
    "At first, let us import everything from the basics tutorial so that we can focus on the newly introduced concepts."
   ]
  },
  {
   "cell_type": "code",
   "execution_count": 1,
   "id": "fuzzy-petite",
   "metadata": {},
   "outputs": [
    {
     "name": "stdout",
     "output_type": "stream",
     "text": [
      "Using downloaded and verified file: /tmp/alanine-dipeptide-nowater.pdb\n"
     ]
    },
    {
     "data": {
      "application/vnd.jupyter.widget-view+json": {
       "model_id": "51cb1200f7e64d5c83575f8c5e60a3be",
       "version_major": 2,
       "version_minor": 0
      },
      "text/plain": [
       "_ColormakerRegistry()"
      ]
     },
     "metadata": {},
     "output_type": "display_data"
    }
   ],
   "source": [
    "import alanine_dipeptide_basics as basic"
   ]
  },
  {
   "cell_type": "markdown",
   "id": "increased-serbia",
   "metadata": {},
   "source": [
    "## Augmented Prior"
   ]
  },
  {
   "cell_type": "code",
   "execution_count": 3,
   "id": "vertical-whale",
   "metadata": {},
   "outputs": [
    {
     "data": {
      "text/plain": [
       "OpenMMEnergy()"
      ]
     },
     "execution_count": 3,
     "metadata": {},
     "output_type": "execute_result"
    }
   ],
   "source": [
    "basic.target_energy"
   ]
  },
  {
   "cell_type": "code",
   "execution_count": null,
   "id": "distant-banks",
   "metadata": {},
   "outputs": [],
   "source": [
    "basic.coordinate_transform"
   ]
  },
  {
   "cell_type": "code",
   "execution_count": null,
   "id": "innocent-envelope",
   "metadata": {},
   "outputs": [],
   "source": [
    "basic.dim_ics"
   ]
  },
  {
   "cell_type": "code",
   "execution_count": null,
   "id": "correct-tribe",
   "metadata": {},
   "outputs": [],
   "source": []
  }
 ],
 "metadata": {
  "kernelspec": {
   "display_name": "Python [conda env:ml] *",
   "language": "python",
   "name": "conda-env-ml-py"
  },
  "language_info": {
   "codemirror_mode": {
    "name": "ipython",
    "version": 3
   },
   "file_extension": ".py",
   "mimetype": "text/x-python",
   "name": "python",
   "nbconvert_exporter": "python",
   "pygments_lexer": "ipython3",
   "version": "3.7.6"
  }
 },
 "nbformat": 4,
 "nbformat_minor": 5
}
